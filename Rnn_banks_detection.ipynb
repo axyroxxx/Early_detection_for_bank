{
  "nbformat": 4,
  "nbformat_minor": 0,
  "metadata": {
    "colab": {
      "name": "Rnn_2",
      "version": "0.3.2",
      "provenance": [],
      "collapsed_sections": [],
      "include_colab_link": true
    },
    "kernelspec": {
      "name": "python3",
      "display_name": "Python 3"
    }
  },
  "cells": [
    {
      "cell_type": "markdown",
      "metadata": {
        "id": "view-in-github",
        "colab_type": "text"
      },
      "source": [
        "<a href=\"https://colab.research.google.com/github/axyroxxx/Early_detection_for_bank/blob/master/Rnn_banks_detection.ipynb\" target=\"_parent\"><img src=\"https://colab.research.google.com/assets/colab-badge.svg\" alt=\"Open In Colab\"/></a>"
      ]
    },
    {
      "cell_type": "code",
      "metadata": {
        "id": "j0i5fYdWQK-E",
        "colab_type": "code",
        "colab": {
          "base_uri": "https://localhost:8080/",
          "height": 34
        },
        "outputId": "f014915d-77a9-47ef-b51e-9ac1a686b53b"
      },
      "source": [
        "import numpy as np\n",
        "import pandas as pd\n",
        "import keras\n",
        "import matplotlib.pyplot as plt\n",
        "from keras.models import Sequential\n",
        "from keras.layers import Input,Convolution2D,Dropout,Flatten,Dense,MaxPooling2D\n",
        "from keras.utils import np_utils\n",
        "import tensorflow\n",
        "from sklearn.compose import ColumnTransformer\n",
        "from sklearn import metrics\n",
        "from sklearn.metrics import accuracy_score\n",
        "from sklearn.metrics import f1_score\n",
        "from sklearn.metrics import jaccard_similarity_score\n"
      ],
      "execution_count": 1,
      "outputs": [
        {
          "output_type": "stream",
          "text": [
            "Using TensorFlow backend.\n"
          ],
          "name": "stderr"
        }
      ]
    },
    {
      "cell_type": "code",
      "metadata": {
        "id": "cQWybvctQR2v",
        "colab_type": "code",
        "colab": {
          "base_uri": "https://localhost:8080/",
          "height": 121
        },
        "outputId": "9bfac029-6ae4-4804-f56c-564e35c32df8"
      },
      "source": [
        "from google.colab import drive\n",
        "drive.mount('/content/drive')"
      ],
      "execution_count": 2,
      "outputs": [
        {
          "output_type": "stream",
          "text": [
            "Go to this URL in a browser: https://accounts.google.com/o/oauth2/auth?client_id=947318989803-6bn6qk8qdgf4n4g3pfee6491hc0brc4i.apps.googleusercontent.com&redirect_uri=urn%3Aietf%3Awg%3Aoauth%3A2.0%3Aoob&scope=email%20https%3A%2F%2Fwww.googleapis.com%2Fauth%2Fdocs.test%20https%3A%2F%2Fwww.googleapis.com%2Fauth%2Fdrive%20https%3A%2F%2Fwww.googleapis.com%2Fauth%2Fdrive.photos.readonly%20https%3A%2F%2Fwww.googleapis.com%2Fauth%2Fpeopleapi.readonly&response_type=code\n",
            "\n",
            "Enter your authorization code:\n",
            "··········\n",
            "Mounted at /content/drive\n"
          ],
          "name": "stdout"
        }
      ]
    },
    {
      "cell_type": "code",
      "metadata": {
        "id": "yuf9RuaOQTjy",
        "colab_type": "code",
        "colab": {}
      },
      "source": [
        "dataset=pd.read_csv(\"/content/drive/My Drive/mldata/rnn/Churn_Modelling.csv\")\n"
      ],
      "execution_count": 0,
      "outputs": []
    },
    {
      "cell_type": "code",
      "metadata": {
        "id": "2C8Q9Bh_QZn1",
        "colab_type": "code",
        "colab": {}
      },
      "source": [
        "X = dataset.iloc[:, 3:13].values\n",
        "y = dataset.iloc[:, 13].values"
      ],
      "execution_count": 0,
      "outputs": []
    },
    {
      "cell_type": "code",
      "metadata": {
        "id": "h8V_2JNgQZxD",
        "colab_type": "code",
        "colab": {}
      },
      "source": [
        "from sklearn.preprocessing import LabelEncoder, OneHotEncoder\n",
        "labelencoder_X_1 = LabelEncoder()\n",
        "X[:, 1] = labelencoder_X_1.fit_transform(X[:, 1])\n",
        "labelencoder_X_2 = LabelEncoder()\n",
        "labelencoder_X_2 = LabelEncoder()\n",
        "X[:, 2] = labelencoder_X_2.fit_transform(X[:, 2])"
      ],
      "execution_count": 0,
      "outputs": []
    },
    {
      "cell_type": "code",
      "metadata": {
        "id": "mOE0p0MlQaDQ",
        "colab_type": "code",
        "colab": {
          "base_uri": "https://localhost:8080/",
          "height": 138
        },
        "outputId": "85c3c6a4-bb5d-4579-b87d-c860c804c467"
      },
      "source": [
        "onehotencoder = OneHotEncoder(categorical_features = [1])\n",
        "X = onehotencoder.fit_transform(X).toarray()\n",
        "X = X[:, 1:]"
      ],
      "execution_count": 7,
      "outputs": [
        {
          "output_type": "stream",
          "text": [
            "/usr/local/lib/python3.6/dist-packages/sklearn/preprocessing/_encoders.py:415: FutureWarning: The handling of integer data will change in version 0.22. Currently, the categories are determined based on the range [0, max(values)], while in the future they will be determined based on the unique values.\n",
            "If you want the future behaviour and silence this warning, you can specify \"categories='auto'\".\n",
            "In case you used a LabelEncoder before this OneHotEncoder to convert the categories to integers, then you can now use the OneHotEncoder directly.\n",
            "  warnings.warn(msg, FutureWarning)\n",
            "/usr/local/lib/python3.6/dist-packages/sklearn/preprocessing/_encoders.py:451: DeprecationWarning: The 'categorical_features' keyword is deprecated in version 0.20 and will be removed in 0.22. You can use the ColumnTransformer instead.\n",
            "  \"use the ColumnTransformer instead.\", DeprecationWarning)\n"
          ],
          "name": "stderr"
        }
      ]
    },
    {
      "cell_type": "code",
      "metadata": {
        "id": "1VWUkfqjgg02",
        "colab_type": "code",
        "colab": {}
      },
      "source": [
        ""
      ],
      "execution_count": 0,
      "outputs": []
    },
    {
      "cell_type": "code",
      "metadata": {
        "id": "B7y1GtTGT55V",
        "colab_type": "code",
        "colab": {}
      },
      "source": [
        "from sklearn.model_selection import train_test_split\n",
        "X_train, X_test, y_train, y_test = train_test_split(X, y, test_size = 0.2, random_state = 0)\n"
      ],
      "execution_count": 0,
      "outputs": []
    },
    {
      "cell_type": "code",
      "metadata": {
        "id": "QSBWs4gBUe7N",
        "colab_type": "code",
        "colab": {}
      },
      "source": [
        "# Feature Scaling\n",
        "from sklearn.preprocessing import StandardScaler\n",
        "sc = StandardScaler()\n",
        "X_train = sc.fit_transform(X_train)\n",
        "X_test = sc.transform(X_test)"
      ],
      "execution_count": 0,
      "outputs": []
    },
    {
      "cell_type": "code",
      "metadata": {
        "id": "RSGVuGuza8r_",
        "colab_type": "code",
        "colab": {}
      },
      "source": [
        "from keras.layers import Dense\n"
      ],
      "execution_count": 0,
      "outputs": []
    },
    {
      "cell_type": "code",
      "metadata": {
        "id": "ZyY9SQh4a9VN",
        "colab_type": "code",
        "colab": {
          "base_uri": "https://localhost:8080/",
          "height": 87
        },
        "outputId": "d7cdca14-2cb9-48cd-dcbf-497774f73574"
      },
      "source": [
        "# Initialising the ANN\n",
        "classifier = Sequential()"
      ],
      "execution_count": 11,
      "outputs": [
        {
          "output_type": "stream",
          "text": [
            "WARNING: Logging before flag parsing goes to stderr.\n",
            "W0721 20:19:13.443779 140176185677696 deprecation_wrapper.py:119] From /usr/local/lib/python3.6/dist-packages/keras/backend/tensorflow_backend.py:74: The name tf.get_default_graph is deprecated. Please use tf.compat.v1.get_default_graph instead.\n",
            "\n"
          ],
          "name": "stderr"
        }
      ]
    },
    {
      "cell_type": "code",
      "metadata": {
        "id": "NdaSgb4ylnhS",
        "colab_type": "code",
        "colab": {
          "base_uri": "https://localhost:8080/",
          "height": 138
        },
        "outputId": "c2f81890-e822-4ca0-c643-2a59f8b85a3e"
      },
      "source": [
        "#First input layer\n",
        "#number of node in hidden layer is average of input and output layer\n",
        "#On experiment by parameter tunning like k4 cross_validataion technique by creating separate set in data set\n",
        "classifier.add(Dense(output_dim = 6, init = 'uniform', activation='relu', input_dim= 11))   "
      ],
      "execution_count": 12,
      "outputs": [
        {
          "output_type": "stream",
          "text": [
            "/usr/local/lib/python3.6/dist-packages/ipykernel_launcher.py:1: UserWarning: Update your `Dense` call to the Keras 2 API: `Dense(activation=\"relu\", input_dim=11, units=6, kernel_initializer=\"uniform\")`\n",
            "  \"\"\"Entry point for launching an IPython kernel.\n",
            "W0721 20:19:15.987838 140176185677696 deprecation_wrapper.py:119] From /usr/local/lib/python3.6/dist-packages/keras/backend/tensorflow_backend.py:517: The name tf.placeholder is deprecated. Please use tf.compat.v1.placeholder instead.\n",
            "\n",
            "W0721 20:19:16.001043 140176185677696 deprecation_wrapper.py:119] From /usr/local/lib/python3.6/dist-packages/keras/backend/tensorflow_backend.py:4138: The name tf.random_uniform is deprecated. Please use tf.random.uniform instead.\n",
            "\n"
          ],
          "name": "stderr"
        }
      ]
    },
    {
      "cell_type": "code",
      "metadata": {
        "id": "v6Jl5RFQEgE9",
        "colab_type": "code",
        "colab": {
          "base_uri": "https://localhost:8080/",
          "height": 70
        },
        "outputId": "9b5f8326-cce3-4c05-b4bb-067e393aa9b9"
      },
      "source": [
        "#second hidden layer\n",
        "classifier.add(Dense(output_dim = 6, init = 'uniform', activation='relu',use_bias=True, bias_initializer=keras.initializers.Constant(0.1)))   "
      ],
      "execution_count": 25,
      "outputs": [
        {
          "output_type": "stream",
          "text": [
            "/usr/local/lib/python3.6/dist-packages/ipykernel_launcher.py:1: UserWarning: Update your `Dense` call to the Keras 2 API: `Dense(activation=\"relu\", use_bias=True, bias_initializer=<keras.ini..., units=6, kernel_initializer=\"uniform\")`\n",
            "  \"\"\"Entry point for launching an IPython kernel.\n"
          ],
          "name": "stderr"
        }
      ]
    },
    {
      "cell_type": "code",
      "metadata": {
        "id": "TGrlXCtuE-mH",
        "colab_type": "code",
        "colab": {
          "base_uri": "https://localhost:8080/",
          "height": 70
        },
        "outputId": "cca7b721-dbe1-4b19-c495-7b2fabdb1dc8"
      },
      "source": [
        "#output layer\n",
        "classifier.add(Dense(output_dim=1,init='uniform',activation='sigmoid'))"
      ],
      "execution_count": 26,
      "outputs": [
        {
          "output_type": "stream",
          "text": [
            "/usr/local/lib/python3.6/dist-packages/ipykernel_launcher.py:1: UserWarning: Update your `Dense` call to the Keras 2 API: `Dense(activation=\"sigmoid\", units=1, kernel_initializer=\"uniform\")`\n",
            "  \"\"\"Entry point for launching an IPython kernel.\n"
          ],
          "name": "stderr"
        }
      ]
    },
    {
      "cell_type": "code",
      "metadata": {
        "id": "AOupPzsvFSlC",
        "colab_type": "code",
        "colab": {}
      },
      "source": [
        "#Compilation\n",
        "#for multiple values(output) loss:catagorical_crossentropy (loss function)\n",
        "# metric is used to judge the performance of your model\n",
        "classifier.compile(optimizer = 'adam', loss = 'binary_crossentropy', metrics = ['accuracy'])\n"
      ],
      "execution_count": 0,
      "outputs": []
    },
    {
      "cell_type": "code",
      "metadata": {
        "id": "3aQkT7YLgjXA",
        "colab_type": "code",
        "colab": {
          "base_uri": "https://localhost:8080/",
          "height": 1000
        },
        "outputId": "c8558c1f-c0aa-4dab-c410-426af50299ef"
      },
      "source": [
        "classifier.fit(X_train, y_train, batch_size = 10, nb_epoch = 100)\n"
      ],
      "execution_count": 28,
      "outputs": [
        {
          "output_type": "stream",
          "text": [
            "/usr/local/lib/python3.6/dist-packages/ipykernel_launcher.py:1: UserWarning: The `nb_epoch` argument in `fit` has been renamed `epochs`.\n",
            "  \"\"\"Entry point for launching an IPython kernel.\n"
          ],
          "name": "stderr"
        },
        {
          "output_type": "stream",
          "text": [
            "Epoch 1/100\n",
            "8000/8000 [==============================] - 2s 225us/step - loss: 0.4998 - acc: 0.7960\n",
            "Epoch 2/100\n",
            "8000/8000 [==============================] - 1s 138us/step - loss: 0.3848 - acc: 0.7960\n",
            "Epoch 3/100\n",
            "8000/8000 [==============================] - 1s 133us/step - loss: 0.3736 - acc: 0.8120\n",
            "Epoch 4/100\n",
            "8000/8000 [==============================] - 1s 135us/step - loss: 0.3673 - acc: 0.8600\n",
            "Epoch 5/100\n",
            "8000/8000 [==============================] - 1s 132us/step - loss: 0.3627 - acc: 0.8606\n",
            "Epoch 6/100\n",
            "8000/8000 [==============================] - 1s 132us/step - loss: 0.3593 - acc: 0.8631\n",
            "Epoch 7/100\n",
            "8000/8000 [==============================] - 1s 131us/step - loss: 0.3570 - acc: 0.8597\n",
            "Epoch 8/100\n",
            "8000/8000 [==============================] - 1s 133us/step - loss: 0.3544 - acc: 0.8625\n",
            "Epoch 9/100\n",
            "8000/8000 [==============================] - 1s 137us/step - loss: 0.3526 - acc: 0.8605\n",
            "Epoch 10/100\n",
            "8000/8000 [==============================] - 1s 133us/step - loss: 0.3514 - acc: 0.8600\n",
            "Epoch 11/100\n",
            "8000/8000 [==============================] - 1s 137us/step - loss: 0.3511 - acc: 0.8605\n",
            "Epoch 12/100\n",
            "8000/8000 [==============================] - 1s 135us/step - loss: 0.3502 - acc: 0.8602\n",
            "Epoch 13/100\n",
            "8000/8000 [==============================] - 1s 133us/step - loss: 0.3493 - acc: 0.8591\n",
            "Epoch 14/100\n",
            "8000/8000 [==============================] - 1s 134us/step - loss: 0.3485 - acc: 0.8590\n",
            "Epoch 15/100\n",
            "8000/8000 [==============================] - 1s 133us/step - loss: 0.3482 - acc: 0.8600\n",
            "Epoch 16/100\n",
            "8000/8000 [==============================] - 1s 134us/step - loss: 0.3470 - acc: 0.8605\n",
            "Epoch 17/100\n",
            "8000/8000 [==============================] - 1s 131us/step - loss: 0.3466 - acc: 0.8589\n",
            "Epoch 18/100\n",
            "8000/8000 [==============================] - 1s 134us/step - loss: 0.3470 - acc: 0.8585\n",
            "Epoch 19/100\n",
            "8000/8000 [==============================] - 1s 130us/step - loss: 0.3459 - acc: 0.8601\n",
            "Epoch 20/100\n",
            "8000/8000 [==============================] - 1s 131us/step - loss: 0.3457 - acc: 0.8594\n",
            "Epoch 21/100\n",
            "8000/8000 [==============================] - 1s 132us/step - loss: 0.3444 - acc: 0.8595\n",
            "Epoch 22/100\n",
            "8000/8000 [==============================] - 1s 131us/step - loss: 0.3448 - acc: 0.8607\n",
            "Epoch 23/100\n",
            "8000/8000 [==============================] - 1s 135us/step - loss: 0.3447 - acc: 0.8614\n",
            "Epoch 24/100\n",
            "8000/8000 [==============================] - 1s 131us/step - loss: 0.3441 - acc: 0.8589\n",
            "Epoch 25/100\n",
            "8000/8000 [==============================] - 1s 133us/step - loss: 0.3438 - acc: 0.8610\n",
            "Epoch 26/100\n",
            "8000/8000 [==============================] - 1s 133us/step - loss: 0.3434 - acc: 0.8605\n",
            "Epoch 27/100\n",
            "8000/8000 [==============================] - 1s 132us/step - loss: 0.3435 - acc: 0.8621\n",
            "Epoch 28/100\n",
            "8000/8000 [==============================] - 1s 132us/step - loss: 0.3433 - acc: 0.8579\n",
            "Epoch 29/100\n",
            "8000/8000 [==============================] - 1s 129us/step - loss: 0.3431 - acc: 0.8632\n",
            "Epoch 30/100\n",
            "8000/8000 [==============================] - 1s 131us/step - loss: 0.3435 - acc: 0.8592\n",
            "Epoch 31/100\n",
            "8000/8000 [==============================] - 1s 132us/step - loss: 0.3425 - acc: 0.8610\n",
            "Epoch 32/100\n",
            "8000/8000 [==============================] - 1s 144us/step - loss: 0.3415 - acc: 0.8635\n",
            "Epoch 33/100\n",
            "8000/8000 [==============================] - 1s 144us/step - loss: 0.3426 - acc: 0.8620\n",
            "Epoch 34/100\n",
            "8000/8000 [==============================] - 1s 149us/step - loss: 0.3426 - acc: 0.8621\n",
            "Epoch 35/100\n",
            "8000/8000 [==============================] - 1s 152us/step - loss: 0.3422 - acc: 0.8624\n",
            "Epoch 36/100\n",
            "8000/8000 [==============================] - 1s 142us/step - loss: 0.3418 - acc: 0.8619\n",
            "Epoch 37/100\n",
            "8000/8000 [==============================] - 1s 134us/step - loss: 0.3420 - acc: 0.8614\n",
            "Epoch 38/100\n",
            "8000/8000 [==============================] - 1s 131us/step - loss: 0.3409 - acc: 0.8632\n",
            "Epoch 39/100\n",
            "8000/8000 [==============================] - 1s 130us/step - loss: 0.3407 - acc: 0.8627\n",
            "Epoch 40/100\n",
            "8000/8000 [==============================] - 1s 131us/step - loss: 0.3403 - acc: 0.8641\n",
            "Epoch 41/100\n",
            "8000/8000 [==============================] - 1s 130us/step - loss: 0.3406 - acc: 0.8609\n",
            "Epoch 42/100\n",
            "8000/8000 [==============================] - 1s 131us/step - loss: 0.3406 - acc: 0.8600\n",
            "Epoch 43/100\n",
            "8000/8000 [==============================] - 1s 130us/step - loss: 0.3406 - acc: 0.8626\n",
            "Epoch 44/100\n",
            "8000/8000 [==============================] - 1s 131us/step - loss: 0.3392 - acc: 0.8635\n",
            "Epoch 45/100\n",
            "8000/8000 [==============================] - 1s 133us/step - loss: 0.3395 - acc: 0.8606\n",
            "Epoch 46/100\n",
            "8000/8000 [==============================] - 1s 129us/step - loss: 0.3401 - acc: 0.8616\n",
            "Epoch 47/100\n",
            "8000/8000 [==============================] - 1s 132us/step - loss: 0.3400 - acc: 0.8649\n",
            "Epoch 48/100\n",
            "8000/8000 [==============================] - 1s 131us/step - loss: 0.3403 - acc: 0.8610\n",
            "Epoch 49/100\n",
            "8000/8000 [==============================] - 1s 130us/step - loss: 0.3399 - acc: 0.8640\n",
            "Epoch 50/100\n",
            "8000/8000 [==============================] - 1s 130us/step - loss: 0.3396 - acc: 0.8635\n",
            "Epoch 51/100\n",
            "8000/8000 [==============================] - 1s 130us/step - loss: 0.3392 - acc: 0.8634\n",
            "Epoch 52/100\n",
            "8000/8000 [==============================] - 1s 129us/step - loss: 0.3395 - acc: 0.8624\n",
            "Epoch 53/100\n",
            "8000/8000 [==============================] - 1s 131us/step - loss: 0.3387 - acc: 0.8655\n",
            "Epoch 54/100\n",
            "8000/8000 [==============================] - 1s 130us/step - loss: 0.3389 - acc: 0.8612\n",
            "Epoch 55/100\n",
            "8000/8000 [==============================] - 1s 128us/step - loss: 0.3381 - acc: 0.8644\n",
            "Epoch 56/100\n",
            "8000/8000 [==============================] - 1s 130us/step - loss: 0.3397 - acc: 0.8635\n",
            "Epoch 57/100\n",
            "8000/8000 [==============================] - 1s 134us/step - loss: 0.3382 - acc: 0.8610\n",
            "Epoch 58/100\n",
            "8000/8000 [==============================] - 1s 130us/step - loss: 0.3390 - acc: 0.8610\n",
            "Epoch 59/100\n",
            "8000/8000 [==============================] - 1s 129us/step - loss: 0.3371 - acc: 0.8632\n",
            "Epoch 60/100\n",
            "8000/8000 [==============================] - 1s 130us/step - loss: 0.3388 - acc: 0.8625\n",
            "Epoch 61/100\n",
            "8000/8000 [==============================] - 1s 129us/step - loss: 0.3392 - acc: 0.8615\n",
            "Epoch 62/100\n",
            "8000/8000 [==============================] - 1s 131us/step - loss: 0.3385 - acc: 0.8646\n",
            "Epoch 63/100\n",
            "8000/8000 [==============================] - 1s 132us/step - loss: 0.3379 - acc: 0.8632\n",
            "Epoch 64/100\n",
            "8000/8000 [==============================] - 1s 129us/step - loss: 0.3381 - acc: 0.8636\n",
            "Epoch 65/100\n",
            "8000/8000 [==============================] - 1s 132us/step - loss: 0.3382 - acc: 0.8631\n",
            "Epoch 66/100\n",
            "8000/8000 [==============================] - 1s 129us/step - loss: 0.3390 - acc: 0.8655\n",
            "Epoch 67/100\n",
            "8000/8000 [==============================] - 1s 132us/step - loss: 0.3375 - acc: 0.8656\n",
            "Epoch 68/100\n",
            "8000/8000 [==============================] - 1s 135us/step - loss: 0.3371 - acc: 0.8632\n",
            "Epoch 69/100\n",
            "8000/8000 [==============================] - 1s 131us/step - loss: 0.3379 - acc: 0.8637\n",
            "Epoch 70/100\n",
            "8000/8000 [==============================] - 1s 131us/step - loss: 0.3376 - acc: 0.8645\n",
            "Epoch 71/100\n",
            "8000/8000 [==============================] - 1s 132us/step - loss: 0.3376 - acc: 0.8625\n",
            "Epoch 72/100\n",
            "8000/8000 [==============================] - 1s 132us/step - loss: 0.3372 - acc: 0.8636\n",
            "Epoch 73/100\n",
            "8000/8000 [==============================] - 1s 131us/step - loss: 0.3379 - acc: 0.8619\n",
            "Epoch 74/100\n",
            "8000/8000 [==============================] - 1s 130us/step - loss: 0.3371 - acc: 0.8610\n",
            "Epoch 75/100\n",
            "8000/8000 [==============================] - 1s 132us/step - loss: 0.3371 - acc: 0.8641\n",
            "Epoch 76/100\n",
            "8000/8000 [==============================] - 1s 132us/step - loss: 0.3372 - acc: 0.8649\n",
            "Epoch 77/100\n",
            "8000/8000 [==============================] - 1s 132us/step - loss: 0.3376 - acc: 0.8624\n",
            "Epoch 78/100\n",
            "8000/8000 [==============================] - 1s 132us/step - loss: 0.3373 - acc: 0.8624\n",
            "Epoch 79/100\n",
            "8000/8000 [==============================] - 1s 130us/step - loss: 0.3368 - acc: 0.8619\n",
            "Epoch 80/100\n",
            "8000/8000 [==============================] - 1s 132us/step - loss: 0.3372 - acc: 0.8651\n",
            "Epoch 81/100\n",
            "8000/8000 [==============================] - 1s 129us/step - loss: 0.3374 - acc: 0.8616\n",
            "Epoch 82/100\n",
            "8000/8000 [==============================] - 1s 130us/step - loss: 0.3355 - acc: 0.8652\n",
            "Epoch 83/100\n",
            "8000/8000 [==============================] - 1s 130us/step - loss: 0.3373 - acc: 0.8615\n",
            "Epoch 84/100\n",
            "8000/8000 [==============================] - 1s 130us/step - loss: 0.3374 - acc: 0.8635\n",
            "Epoch 85/100\n",
            "8000/8000 [==============================] - 1s 127us/step - loss: 0.3367 - acc: 0.8620\n",
            "Epoch 86/100\n",
            "8000/8000 [==============================] - 1s 129us/step - loss: 0.3368 - acc: 0.8616\n",
            "Epoch 87/100\n",
            "8000/8000 [==============================] - 1s 130us/step - loss: 0.3365 - acc: 0.8635\n",
            "Epoch 88/100\n",
            "8000/8000 [==============================] - 1s 134us/step - loss: 0.3367 - acc: 0.8640\n",
            "Epoch 89/100\n",
            "8000/8000 [==============================] - 1s 133us/step - loss: 0.3357 - acc: 0.8625\n",
            "Epoch 90/100\n",
            "8000/8000 [==============================] - 1s 130us/step - loss: 0.3355 - acc: 0.8644\n",
            "Epoch 91/100\n",
            "8000/8000 [==============================] - 1s 130us/step - loss: 0.3352 - acc: 0.8637\n",
            "Epoch 92/100\n",
            "8000/8000 [==============================] - 1s 129us/step - loss: 0.3351 - acc: 0.8627\n",
            "Epoch 93/100\n",
            "8000/8000 [==============================] - 1s 131us/step - loss: 0.3354 - acc: 0.8644\n",
            "Epoch 94/100\n",
            "8000/8000 [==============================] - 1s 132us/step - loss: 0.3354 - acc: 0.8636\n",
            "Epoch 95/100\n",
            "8000/8000 [==============================] - 1s 133us/step - loss: 0.3360 - acc: 0.8631\n",
            "Epoch 96/100\n",
            "8000/8000 [==============================] - 1s 133us/step - loss: 0.3352 - acc: 0.8629\n",
            "Epoch 97/100\n",
            "8000/8000 [==============================] - 1s 133us/step - loss: 0.3362 - acc: 0.8644\n",
            "Epoch 98/100\n",
            "8000/8000 [==============================] - 1s 135us/step - loss: 0.3355 - acc: 0.8655\n",
            "Epoch 99/100\n",
            "8000/8000 [==============================] - 1s 132us/step - loss: 0.3353 - acc: 0.8647\n",
            "Epoch 100/100\n",
            "8000/8000 [==============================] - 1s 131us/step - loss: 0.3346 - acc: 0.8647\n"
          ],
          "name": "stdout"
        },
        {
          "output_type": "execute_result",
          "data": {
            "text/plain": [
              "<keras.callbacks.History at 0x7f7d07a72e48>"
            ]
          },
          "metadata": {
            "tags": []
          },
          "execution_count": 28
        }
      ]
    },
    {
      "cell_type": "code",
      "metadata": {
        "id": "lVE1o-VhgmJ7",
        "colab_type": "code",
        "colab": {}
      },
      "source": [
        "#considering the probability of leaving the bank is greeater than 0.4\n",
        "y_pred_test = classifier.predict(X_test)\n",
        "y_pred_test =(y_pred_test>0.4)\n",
        "y_pred_train = classifier.predict(X_train)\n",
        "y_pred_train =(y_pred_train>0.4)\n"
      ],
      "execution_count": 0,
      "outputs": []
    },
    {
      "cell_type": "code",
      "metadata": {
        "id": "x_Kl8tyahQN_",
        "colab_type": "code",
        "outputId": "c544df35-7007-49f4-fac7-8d78882396e0",
        "colab": {
          "base_uri": "https://localhost:8080/",
          "height": 138
        }
      },
      "source": [
        "print(\"Train set Accuracy: \", metrics.accuracy_score(y_train, y_pred_train))\n",
        "print(\"Test set Accuracy: \", metrics.accuracy_score(y_test, y_pred_test))\n",
        "print(\"jaccard score (test) is : \" , jaccard_similarity_score(y_test,y_pred_test))\n",
        "#print(\"F1 score (testing) is : \" , f1_score(y_test,y_pred_test,average='macro'))"
      ],
      "execution_count": 30,
      "outputs": [
        {
          "output_type": "stream",
          "text": [
            "Train set Accuracy:  0.859375\n",
            "Test set Accuracy:  0.8495\n",
            "jaccard score (test) is :  0.8495\n",
            "F1 score (testing) is :  0.7672331562062716\n"
          ],
          "name": "stdout"
        },
        {
          "output_type": "stream",
          "text": [
            "/usr/local/lib/python3.6/dist-packages/sklearn/metrics/classification.py:635: DeprecationWarning: jaccard_similarity_score has been deprecated and replaced with jaccard_score. It will be removed in version 0.23. This implementation has surprising behavior for binary and multiclass classification tasks.\n",
            "  'and multiclass classification tasks.', DeprecationWarning)\n"
          ],
          "name": "stderr"
        }
      ]
    }
  ]
}